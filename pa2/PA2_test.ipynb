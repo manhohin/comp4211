{
 "cells": [
  {
   "cell_type": "code",
   "execution_count": 2,
   "metadata": {
    "colab": {
     "base_uri": "https://localhost:8080/"
    },
    "id": "-LKeNxBw1ori",
    "outputId": "d03e1503-7391-4e24-a000-be84c8f33db8"
   },
   "outputs": [
    {
     "name": "stdout",
     "output_type": "stream",
     "text": [
      "\u001b[31mERROR: Could not find a version that satisfies the requirement tensorflow-gpu (from versions: none)\u001b[0m\u001b[31m\n",
      "\u001b[0m\u001b[31mERROR: No matching distribution found for tensorflow-gpu\u001b[0m\u001b[31m\n",
      "\u001b[0mRequirement already satisfied: tensorflow-addons in /Users/adrian/opt/anaconda3/lib/python3.9/site-packages (0.18.0)\n",
      "Requirement already satisfied: packaging in /Users/adrian/opt/anaconda3/lib/python3.9/site-packages (from tensorflow-addons) (22.0)\n",
      "Requirement already satisfied: typeguard>=2.7 in /Users/adrian/opt/anaconda3/lib/python3.9/site-packages (from tensorflow-addons) (2.13.3)\n",
      "Requirement already satisfied: ffmpeg in /Users/adrian/opt/anaconda3/lib/python3.9/site-packages (1.4)\n"
     ]
    }
   ],
   "source": [
    "!pip install tensorflow-gpu\n",
    "!pip install tensorflow-addons\n",
    "!pip install ffmpeg"
   ]
  },
  {
   "cell_type": "code",
   "execution_count": 35,
   "metadata": {},
   "outputs": [],
   "source": [
    "from tensorflow.python.ops.numpy_ops import np_config\n",
    "np_config.enable_numpy_behavior()"
   ]
  },
  {
   "cell_type": "code",
   "execution_count": 15,
   "metadata": {
    "id": "zIlBdfga17Wf"
   },
   "outputs": [],
   "source": [
    "import tensorflow as tf\n",
    "import tensorflow_addons as tfa\n",
    "import numpy as np\n",
    "import matplotlib\n",
    "import ffmpeg\n",
    "import gzip\n",
    "import random\n",
    "\n",
    "from tensorflow.python.ops.numpy_ops import np_config\n",
    "np_config.enable_numpy_behavior()\n",
    "\n",
    "class MMNISTDataset(tf.keras.utils.Sequence):\n",
    "\n",
    "    def __init__(self, data_set):\n",
    "        super(MMNISTDataset, self).__init__()\n",
    "        self.data_set = data_set\n",
    "        self.batch_size = 16\n",
    "        \n",
    "        if data_set == \"train\":\n",
    "          self.length = int(9008/self.batch_size)\n",
    "          f = gzip.open('pa2_data/train-images-idx3-ubyte.gz','r')\n",
    "          image_size = 28\n",
    "          num_images = 60000\n",
    "          f.read(16)\n",
    "          buf = f.read(image_size * image_size * num_images)\n",
    "          self.mnist_train_im  = np.frombuffer(buf, dtype=np.uint8).astype(np.float32)\n",
    "          self.mnist_train_im  = self.mnist_train_im.reshape(num_images, image_size, image_size)\n",
    "        elif data_set == \"test\":\n",
    "          self.length = int(9008/self.batch_size)\n",
    "          test_set = np.load('pa2_data/MNIST_test_seq.npy')\n",
    "          print(test_set.shape)\n",
    "          test_set = test_set.transpose(1,0,2,3)\n",
    "          self.mnist_test = test_set[0:9008]\n",
    "          self.mnist_test = np.expand_dims(self.mnist_test, axis=4)\n",
    "        elif data_set == \"valid\":\n",
    "          self.length = int(992/self.batch_size)\n",
    "          test_set = np.load('pa2_data/MNIST_test_seq.npy')\n",
    "          test_set = test_set.transpose(1,0,2,3)\n",
    "          self.mnist_valid = test_set[9008:10000]\n",
    "          self.mnist_valid = np.expand_dims(self.mnist_valid, axis=4)\n",
    "\n",
    "    def __len__(self):\n",
    "        return self.length\n",
    "\n",
    "    def gen_random_sequence(self):\n",
    "        ''' randomly generate a sequence of a digit '''\n",
    "        size = 64 - 28\n",
    "        x, y, theta = random.random(), random.random(), random.random() * 2 * np.pi\n",
    "        velocity_y, velocity_x = np.sin(theta), np.cos(theta)\n",
    "        seq_x, seq_y = np.zeros(20), np.zeros(20)\n",
    "        for i in range(20):\n",
    "            y += 0.1*velocity_y\n",
    "            x += 0.1*velocity_x\n",
    "            if x <= 0:\n",
    "                x = 0\n",
    "                velocity_x = -velocity_x\n",
    "            if x >= 1.0:\n",
    "                x = 1.0\n",
    "                velocity_x = -velocity_x\n",
    "            if y <= 0:\n",
    "                y = 0\n",
    "                velocity_y = -velocity_y\n",
    "            if y >= 1.0:\n",
    "                y = 1.0\n",
    "                velocity_y = -velocity_y\n",
    "            seq_x[i], seq_y[i] = x, y\n",
    "        # Scale to the size.\n",
    "        seq_x = (size * seq_x).astype(np.int32)\n",
    "        seq_y = (size * seq_y).astype(np.int32)\n",
    "        return seq_y, seq_x\n",
    "\n",
    "    def random_mmnist(self):\n",
    "        '''generate frames of moving mnist. '''\n",
    "        data = np.zeros((20, 64, 64), dtype=np.float32)\n",
    "        # 10 input + 10 groundtruth = 20\n",
    "        for n in range(2):\n",
    "            seq_y, seq_x = self.gen_random_sequence()\n",
    "            idx = random.randint(0, self.mnist_train_im.shape[0] - 1)\n",
    "            mnist_image = self.mnist_train_im[idx]\n",
    "            for i in range(20):\n",
    "                # put the 2 moving digits into \"data\"\n",
    "                data[i, seq_y[i]:seq_y[i]+28, seq_x[i]:seq_x[i]+28] = np.maximum(\n",
    "                  data[i, seq_y[i]:seq_y[i]+28, seq_x[i]:seq_x[i]+28],\n",
    "                  mnist_image)\n",
    "        return data\n",
    "\n",
    "    def __getitem__(self, idx):\n",
    "      if self.data_set == 'train':\n",
    "        a = tf.expand_dims(self.random_mmnist()[..., None],0)\n",
    "        for i in range(self.batch_size-1):\n",
    "              a = tf.concat([a,tf.expand_dims(self.random_mmnist()[..., None],0)],0) \n",
    "        a = a/255\n",
    "        input = tf.convert_to_tensor(a[:, 0:10], dtype='float')\n",
    "        gt = tf.convert_to_tensor(a[:, 10:20], dtype='float')\n",
    "      elif self.data_set == 'test':\n",
    "        temp = self.mnist_test\n",
    "        index = idx*16\n",
    "        temp = temp[index:index+16]\n",
    "        temp = temp/255\n",
    "        input = tf.convert_to_tensor(temp[:, 0:10], dtype='float')\n",
    "        gt = tf.convert_to_tensor(temp[:, 10:20], dtype='float')\n",
    "      else:\n",
    "        temp = self.mnist_valid\n",
    "        index = idx*16\n",
    "        temp = temp[index:index+16]\n",
    "        temp = temp/255\n",
    "        input = tf.convert_to_tensor(temp[:, 0:10], dtype='float')\n",
    "        gt = tf.convert_to_tensor(temp[:, 10:20], dtype='float')\n",
    "\n",
    "      return input, gt\n",
    "      \n"
   ]
  },
  {
   "cell_type": "code",
   "execution_count": 16,
   "metadata": {
    "colab": {
     "base_uri": "https://localhost:8080/"
    },
    "id": "g_rfob-LvZ95",
    "outputId": "87c58a6b-fad3-44b5-d35d-8d299e79a6cb"
   },
   "outputs": [
    {
     "name": "stdout",
     "output_type": "stream",
     "text": [
      "(20, 10000, 64, 64)\n"
     ]
    }
   ],
   "source": [
    "train_set = MMNISTDataset('train')\n",
    "test_set = MMNISTDataset('test')\n",
    "valid_set = MMNISTDataset('valid')"
   ]
  },
  {
   "cell_type": "code",
   "execution_count": 17,
   "metadata": {
    "id": "f8G6GP0APrce"
   },
   "outputs": [],
   "source": [
    "from matplotlib import pyplot as plt\n",
    "from matplotlib import animation\n",
    "from IPython.display import HTML\n",
    "\n",
    "def visualize(video):\n",
    "    video = video.reshape(10,64,64)\n",
    "\n",
    "    fig = plt.figure()\n",
    "    im = plt.imshow(video[0,:,:])\n",
    "\n",
    "    plt.close() # this is required to not display the generated image\n",
    "\n",
    "    def init():\n",
    "        im.set_data(video[0,:,:])\n",
    "\n",
    "    def animate(i):\n",
    "        im.set_data(video[i,:,:])\n",
    "        return im\n",
    "\n",
    "    anim = animation.FuncAnimation(fig, animate, init_func=init, frames=video.shape[0],\n",
    "                                  interval=80)\n",
    "    return HTML(anim.to_html5_video())"
   ]
  },
  {
   "cell_type": "code",
   "execution_count": 36,
   "metadata": {
    "colab": {
     "base_uri": "https://localhost:8080/"
    },
    "id": "AzlxzzgFcIEw",
    "outputId": "8a9d4a24-7428-48ec-8f41-476d6e0fffed"
   },
   "outputs": [
    {
     "name": "stdout",
     "output_type": "stream",
     "text": [
      "<class 'tensorflow.python.framework.ops.EagerTensor'>\n",
      "(10, 64, 64, 1)\n"
     ]
    }
   ],
   "source": [
    "print(type(train_set[0][0][0]))\n",
    "print(train_set[0][0][0].shape)"
   ]
  },
  {
   "cell_type": "code",
   "execution_count": 19,
   "metadata": {
    "colab": {
     "base_uri": "https://localhost:8080/"
    },
    "id": "aQM4MOB4QR-9",
    "outputId": "5114f707-3a2e-47c8-abad-3699999d139f"
   },
   "outputs": [
    {
     "name": "stdout",
     "output_type": "stream",
     "text": [
      "<class 'tensorflow.python.framework.ops.EagerTensor'>\n",
      "(16, 10, 64, 64, 1)\n"
     ]
    }
   ],
   "source": [
    "print(type(test_set[0][0]))\n",
    "print(test_set[0][0].shape)"
   ]
  },
  {
   "cell_type": "code",
   "execution_count": 22,
   "metadata": {
    "colab": {
     "base_uri": "https://localhost:8080/",
     "height": 309
    },
    "id": "UFojDL_qPxjX",
    "outputId": "527cbc45-483a-4385-b75b-5fa4f69c0f6d"
   },
   "outputs": [
    {
     "data": {
      "text/html": [
       "<video width=\"640\" height=\"480\" controls autoplay loop>\n",
       "  <source type=\"video/mp4\" src=\"data:video/mp4;base64,AAAAHGZ0eXBNNFYgAAACAGlzb21pc28yYXZjMQAAAAhmcmVlAAA5/G1kYXQAAAKhBgX//53cRem9\n",
       "5tlIt5Ys2CDZI+7veDI2NCAtIGNvcmUgMTU3IC0gSC4yNjQvTVBFRy00IEFWQyBjb2RlYyAtIENv\n",
       "cHlsZWZ0IDIwMDMtMjAxOCAtIGh0dHA6Ly93d3cudmlkZW9sYW4ub3JnL3gyNjQuaHRtbCAtIG9w\n",
       "dGlvbnM6IGNhYmFjPTEgcmVmPTMgZGVibG9jaz0xOjA6MCBhbmFseXNlPTB4MzoweDExMyBtZT1o\n",
       "ZXggc3VibWU9NyBwc3k9MSBwc3lfcmQ9MS4wMDowLjAwIG1peGVkX3JlZj0xIG1lX3JhbmdlPTE2\n",
       "IGNocm9tYV9tZT0xIHRyZWxsaXM9MSA4eDhkY3Q9MSBjcW09MCBkZWFkem9uZT0yMSwxMSBmYXN0\n",
       "X3Bza2lwPTEgY2hyb21hX3FwX29mZnNldD0tMiB0aHJlYWRzPTEyIGxvb2thaGVhZF90aHJlYWRz\n",
       "PTIgc2xpY2VkX3RocmVhZHM9MCBucj0wIGRlY2ltYXRlPTEgaW50ZXJsYWNlZD0wIGJsdXJheV9j\n",
       "b21wYXQ9MCBjb25zdHJhaW5lZF9pbnRyYT0wIGJmcmFtZXM9MyBiX3B5cmFtaWQ9MiBiX2FkYXB0\n",
       "PTEgYl9iaWFzPTAgZGlyZWN0PTEgd2VpZ2h0Yj0xIG9wZW5fZ29wPTAgd2VpZ2h0cD0yIGtleWlu\n",
       "dD0yNTAga2V5aW50X21pbj0xMiBzY2VuZWN1dD00MCBpbnRyYV9yZWZyZXNoPTAgcmNfbG9va2Fo\n",
       "ZWFkPTQwIHJjPWNyZiBtYnRyZWU9MSBjcmY9MjMuMCBxY29tcD0wLjYwIHFwbWluPTAgcXBtYXg9\n",
       "NjkgcXBzdGVwPTQgaXBfcmF0aW89MS40MCBhcT0xOjEuMDAAgAAAFmhliIQAP//+92ifAptaQ3qA\n",
       "5JXFJdtPgf+rZ3B8j+kDAAADAAADAAAEMCOP9CT+H5qTAAADAEQAC3V5/Bmn/MAbu+I6gykpRSyL\n",
       "8NfmA+NoXVzTT/0XKs3Eu8fkilbs/UVzm5lAR9R7fpPL7nVzoeBEFqxYyCNe66Qzvu/nLdjkGjS4\n",
       "t5wtNrezrCDZ/+9sVEgbZbA/yz/f6gk/eYYHxSZIDkGaz8W/tw5OVklu5kOaSEA1nSZ1YSegerbB\n",
       "XGgJ+mMTlpDMmaTpf4Pr5KLtw0mngvOHXTXRcfmJvVg92nzHox8x0iaf+D/SH/YzhXRVz+VWGWLG\n",
       "A1e9bqMf2PMjNHuhNq2bpEtzXdWe1ULvOCUFL94Q0r7D9+ppMgfRxqhKWJ4nRSZUtpyO8EsK3oyv\n",
       "4lwS6Q20RU0ZszyojFiIjeIiKkH4GL/G1h1PFhZ9XvO29bTfrYenyxmLAR+Hpmh0l8SGHzDEhO4Z\n",
       "l8qqs0p/y/YKEdVE+CkOke9k+rPLL/pYN26/58FiO/g5JgftNvmeawtmwXkApSgm9TXblhGp8vt9\n",
       "95n9d7Xa79ZB7UE9KVzdgXYPEMo1Q+AvHGMqqbKsUjAeEDPeMQsmlBXw/dHjrOS5Flqoj/Y0QqbJ\n",
       "LbbiAfpVFY89XG7PPkhR7ChPx8Jm24TV6O4RRv2SVNCSAFlbA0goezzsQwieti3caYFJNR9TROfX\n",
       "G1Ige3MMsqnD8HvERzA/Oi5oc/Rq2IE4Q4q8rvxkH4f3zLtcz2tSx1vVFkaNjeaD2VrJ3i1fQYaj\n",
       "PsbMgGCqntKuyiXxLQepFt/on5IsBqfGQKnHznHqGT2nppLsq4a7tGUgrjA9uUZ9s+12BD8/6L3m\n",
       "HdF0VYEtsLpD1a91Y9X9wFNKojhWRrEAcxEbo789zESgqVRc2vQ2cle7oxCvirkmY+aLovTlosCX\n",
       "3m3P7X60/0cfB4tMDtaNhWawmmUov6cFG74Pz/4oeGwVvYXvb/1sbBQlfYztuw88IWwLx92X+y7u\n",
       "UNltHwAP+x5082txmAef/DF5JrNgWgCVUU+0Mc8niuyp4CPe/ay8ye5OF4pSWqz8aYm8Kg+kKeoy\n",
       "qnzHZNoaAuWc49KZOb29qul4YGq4RyuYtfIcO/pM7YVVYul1MVJtx4vJswg82DpmmzZMnv13bvx2\n",
       "/qkiUBQbwIH0a7vVJ6TtQojB1ZncrS5oz4NvE1OmKNsvsUug8HN+vdXe92fVYAiVyM6JZ+Y8zQO7\n",
       "IXuCCTMn023iH7nCZJ1SyIjzI4HEfJIZ2n37iBc2qVm5jbcPoAeRa9HRkP0zWb00DjIYDP7es445\n",
       "xYBBoUwOzRjtm/ss//5P1/sHFQJV0f0vRnBiKEmV5UMiL9YPsFaQF6ylaedomEIsApO+5Pc4b1+6\n",
       "Zo+hgZ3Uqkw7SIisTH2GADvUXoXdOs3VEfmWU8a2GiOwmp6gTi7fEwz4v2pRWrL/5cffWDhvDuS0\n",
       "IPwSnQ7A1ujkLrnBgM7jQYif7EUcbdA8XYgB2mkcHmusrDYPt41jfGTXklYR1QZXY08LNEG2OQX3\n",
       "bB9R6XY8GoiIBBMBaZeWW5mfCqFfadZVLlwjHory464V1Q2lMCcvHwQSnM7JnjvrHVsshGuQnfJI\n",
       "MOUO16AZNMKSK+vW32ht3dnc9yHQBT6TdPgeI8cCE/DgXuwp3XG+yU3XnUWjk29nzkG+r5lCiV7O\n",
       "KHuSbQKd4nrOp320ISeMKZ9i/81nhnf3ewRuSp4Q2lyafsM010IBFbMCvYuyCTg+x7v0zd2WIAAN\n",
       "4ZMcFatzHIONYgmLfnyxByWD91kA4wWKL337vNfAGI2MrjcX6tvpbZTXyyQ6XtaYDRU3/gbtid1S\n",
       "1mA6cuym+ukVJzzZUUmA4lCTKX0TmtNjWqaAOViXmGOsOmRjURZRyAnZ2oqE16KKzbvSPt1sIg+G\n",
       "SR78/cI/thm4COpFILMzRAfccPkCvC8K04G8Z8Terj9cqxRZncon/649q/JcckDmFzAlWx5huKu4\n",
       "RrCgSbiG6Mg7vY8/Gl9ID95Y5Sr3NTkWvA5r+pbfE3RY4I8uPlyN7IYPB1R/mha05EhqQQRvelSm\n",
       "23xDlvMgpbL7N8eF3RrvXLc08XcqQ1l10isxucG0aQFpQcAcMxDc8q2wpHRR+d27WImLmbW6Ldfq\n",
       "baH5RJ7VmCXZ9NmfJI2yZcZhGvzpuMw4vJq0+yCsbvQDyBQu84hHiiVyMDzgK3ZroP3NeeWzcjeY\n",
       "WEPbGorSzNKMu/pkFgPQ84Fo5CvMFiD76xnE0ZDZPBIsKQ2GzON/6iFcAMQloiLJub6hiPLvmo3q\n",
       "tSr5hH26l058P8KaiePEn6CyMiV9Pv3/Q5zQd5TMcy6T/I/8irMfiH1JEd3oz+YAf0akShTX/cta\n",
       "sUJwo3RVlJa82pQoFfNfjhm64EXMX7HBeM5iQMrRlCXcIGz3nSlMpEu7E60UtD2OCN4c5qEE8lWu\n",
       "urVQNGpPAlmxMV4Mh6x53CqKEcILCG15jXCI2/HfvYgyxeXhmewuWr/9wTzBwfkkD7REjbbkvI3F\n",
       "VScGT/+oSDAuhhPFSUHQpb4UeAbFgSz4V2QZWIN9BCDjPFejKpAVBr1yCzL5+6p/9J0O2eeZSfXu\n",
       "bIm3gYn1oHuUCvC5X9h6KCKp73z7tQ8pHm28ViUcbiFsRAodYsVYkkIWPU6ymTbb88YlKxmEslsH\n",
       "C9l0qiyeYJO0a5yTYSzRu4Kg4dzw9C7eEDy02W9yvQLvIkVrfPkXY0+QXJhlF9VAGGuoiW5FSDTQ\n",
       "9daPFx/6/KafirwhI+GfQhOLhf0wCYKrTmEuE/LYmm8AG1cui7Jk+h9FRFgkCbCBI4W/qpiSAAAJ\n",
       "dy9ax3Jg9i5v0t/ilddKsCVTU8KW3jtzlhJg3+SVIXnbN7Gr1yUhA9Ef/xxWRtimS9emt1Gy/z4Z\n",
       "etOTlFSdJfxlYYhVclzfmJTY0H55qWfn271MB7dWky4e8IbxuvcXW1qyhs3FpOlJb5JQptCxPKip\n",
       "hbMtEae8yZnvcBOWSu1Pw7mV0C19i47+OGEeVYF1xwTQIfdWypPB+IegbrALmoZBkiLyykikOe51\n",
       "bu4FJA+09BLpjEaXJSLpEqk+86d6JVvWxNewypvjy/Nz32gmD0GZqHkvEHiaBkHqy2jaO+YQxzJE\n",
       "XCB/fReybfx6Lyy8W+OEhSaCgP+K6yJSDRwijraU55MUNCnlQwbuCKkkhEFvWq1kO0ERJqtOE0vA\n",
       "Wlyz6yQiLkxiE8G+uMqMv8TsTeKTWunF5z0MeZt2ya54+5mt6LTO9taj3Yl1RFJsd+0J6y3mkEaG\n",
       "evLRP0Z45hSxObGwNINeqNwz5ddwP+aExT+rcpofOsZWSqwE15o9qotB1We3vnVPZ3rePHfbXXQV\n",
       "zFyIWTc2rW72CnSXD6WVMS+qhDTOgsRJHAUUVSsT+3D1W3w9CCIo/o9/Rb7wSluyLHa7aBRjTJ90\n",
       "RNmsrW7UqnjuDtOW21C9ed8SL/3vvxms6gBLOHdDip/GxUyyhJzYk2+04Y5xvA3WP4OFzft/70GO\n",
       "N3KmryGrPIfW3crVBMM+Ej97anhSpyGJYBhAtIbSscqBZJOF6vXZUfx9QDGUERK8zfxYNowk+U5V\n",
       "TSOccaYpOm1qWh7VCa4JvwvHnT2Z2L5gf4Ur9F6/zFErbcEoe8CdHfUa9IWsdA/+a0ubGBOyamU3\n",
       "Nd+nMxm1x66JDMdgJmmLthSd7AV+DUIrUh9J2oOIdUtLsimh3ERgJ94Adr5pD1bdBxLKJW11xw4X\n",
       "6TKo5E8GRxnGk8/B/I5KXZjK3TKwj1lFpaFTPedU3K9oWl6PqYyUqcuRTfw7J8nHC0RB9Wi8jvRH\n",
       "lFOCka+2100vWGqP8vntpt31wAtOw288i7m5/VcbCSpwDFnrrUus5FfwpdvQedE51rIzBgagZ+eE\n",
       "1ytGEHWYGk/Sh+8WuutgriH1dSDvFVvFi/XvGkAXCBJvO0ZGC3kRUASSKGAlQzxFmR6sYi7gMag2\n",
       "9ikcnJVymNvCpRxYpogNs2md67cz/4DfXwmmZ5sNhMfDJkpOJnqVLealz+lxvmOXKjuwz9OGyRDw\n",
       "qVcbEnBapiGNGF+X5s8gOBdLZXqW0nCiNO76GUDgKDSIGioOyU1acRUz1aQ/SACFNGGyTzKSJ2eL\n",
       "Y+mXlGLIwSJLsGia+Lz4qANv+zPUCazolQ80BEA0KqNR0KNjcDS+5yGpiv8dQNUBZGr000JARt1J\n",
       "GEz+7j395Q27I8jxvUAACC2qLq2kg5ub5hCCC0U7sxpIuDqjVFkJDNJv6TMJdFV59u+inI0kukt/\n",
       "AHkg0cPz3vzR4HJRPrTayWmLimKrmXqiFHeEncfE74Kun1iPkgtfBQuNHMCJICwgtuqqqDVVIRXn\n",
       "lkx1lIczQRShC4PShgdhobpPyg9zWCJxHbuo47PkF+y3Y4y60+itjIeF4rSBwwKydIYiPUMtKaP0\n",
       "7mxILNE9P/gdjYLTrgFfd09/XsYZ0SdDzbeZ8onODIB48UPQOVYLntNsrM4FdvnVVf2PMhIcZ5zN\n",
       "fuGbZkw6dzIRDtIhGLYw5Czt3d37ghze7u8eoutiSWSVOovxuE1a/QXIBabkkXMlVhhhnMT5XWvE\n",
       "9u0rMF3gWVQiRxrJYa4ATO4XPdBsodEVd2FyRpqVDOb1BGgPfc6D28G6QNh6jQlSZd/0fqUtftJt\n",
       "ba4mgzSdFilEfI0PoDLuVqT1v3i6TTkqH8Vbcg7SRb5bKmqv4civ3kNiEzaMyQc7m0HoErLzbTpB\n",
       "Mzl505Sc52SsHcx8tcIvsgV2z/uD2H/JsthJcBhuHtIteQKMnOuWLQa0U3Bu6V9BK1cw+kQ59WB2\n",
       "f3ORIx9jXZrGYHse25WRMp1NG0OOT69+hbnKMSuhWSDR9QbPPaURB3582YlW2jFKFA0py/LIAJHH\n",
       "KS/Y8sNNCnHAi3Vv7y+mqixs5xlCVq9miaNvUmqOMvXQauSXmR9rZdNGIBT0dQO0mDFit3IDAAeY\n",
       "dw+AwtbhJWuMrlRWiSCyL03w/eUZKjzdate0LzB9Kj7whUi8WYQldwTS0FCNiCLl1Zqk7ztJjSty\n",
       "KeMq5Jf0KmpsOnOozz+i3H60lQGsTdFkBY2gPX/WalyTBO2Jw3jmhggMIDCtDLgAVsM2tgxPBeVo\n",
       "KA+W4Wh/Yk8Conbt8s7IOvmOclbK34Mz6tcR7jf+GsdVKYs0T9aAIHKKtT5McW31JwQe3WPis3mj\n",
       "b/Zp0miSqI0mB8haxdgyf0uidf/VmplH3u3EUh18TbXHp8qhwrhYVJYna0A2puKXRvFxMloBF1S9\n",
       "RWOID7TfTyRzaGUMZ17IkbDeKV7Wu3/VlkvnT62uj0TYxzeLwGGrmcTV7BJsUS7eLWINZNlTLVqH\n",
       "J6ZBoWOGyx2O3fNE9RUiOSs2CtE1fdhsGmI1MizXXfUcDHaC3Xkim7BDYmCPEKVvjmzX5Q+8rxop\n",
       "Yz39qMWYfia+G9IRmthjoDbsqpj4ZmFFF1iWk+rwRH8qVKFCgDN2lVVo1dSQvVG9hLNWpLkiUHiS\n",
       "usCGcrSeuu8/VzbFD0RskHOEsT2rNv4/eFlpYr+H1WcKk82Y8mZ9G+xV8Wfe3N1lgo/lbl6a48J/\n",
       "WVQ+ND/pgGlEGpSqv7OTAdxI4PKn6jzyBnmjyuPi2QbA+odhnro6e07lhr434NkNf8XytVbSkA/a\n",
       "pGJMifDyzAG/RObVkz3K90PuBF/oMa/toQTQI9NYQZUASpRDQ0a17fWETKlVeLGXvWGmu5vIQUaU\n",
       "/6xoBA6An6ZcBtPC8Sc038uy63HGJC5u2NLimHzBDbp5VlPKDzwMYV8hs6REUgn8vM/gBnf1OlUp\n",
       "ckH72GWCwER5afH4c7Il8Q3RsEPOt2A3N2FNWP3g38JAcBTGT8q5Nqc4Fel/xjIybv91eo9JJB0J\n",
       "qtuOrx+1llwulC9/w3Lq5iOQe5ssFr3keaYc/LrIfLxZSUA7ThHnxS7Ex2Ax3Ib//cV37Bq7yPWO\n",
       "zhGICWrxK+cwEYa2CQK25nTZBcU9IqPfIizxaIe/M+Bq00lzoMDq7IVfxQAnKVCu5f7h4r0wR3sA\n",
       "quiTD+rdfqjHL7df09tQ/BJ4N4gnM+5UNUaa3GdDNV78Md/hM8ANMiRtXYLIXhnVhZP6d/ju/kq7\n",
       "jPfGq52bQKNA2nsN3lfCUqj06PG1GUbHm0C5EN5xK3U193ISkTPyFYg3BBHLotVFReV1hf/ZYhRy\n",
       "zqzhYciAo3yPibmELox095Qn/TIZVoHAERVvXlsy1sSUH11PZepKhqCEe5OdKbydsFg88VYahcy2\n",
       "8NU/jgkHanH4geUMT5O1hm0YHzYERYWUbzBr34LMdQ7r9mYjjPxknp0vECj7aMgwEvU9EWQyjKGF\n",
       "VGBHy36FIWral0qGum38awZX56RiUp7m+g2M7dyLrm0QAuhk+MNEnEzSVTJdXXZwarQeMDrX6Lrb\n",
       "7oztZon6iwPWSJNtKZpMH0BtbGOnvXBwhLuKVoi44m+g5xTmHh2hlBaA1nrBzRucUJ//ihzKy266\n",
       "n4YGBaqwdHD3WguTRTkGbn4nhgZOoFM++SbtUnF9j6RLihjiJppJJJOiEAgagYrwPySnZmBdRwIo\n",
       "qVkqTriTR2JiP3QTA5EApN7Jwe6gEaJ0F2Caq6mnxSsRnrOMWsSnHsKFy8Sk2VAK3UTqwFTeWwfv\n",
       "1ip2IBXqz4oJnPtb81wUqePlyH7MNNQipreg9PitzEBAkbFlSEGdLlpqW4iVcmme6uMEpmCo2bW8\n",
       "Mrf2Ur54C8SkWzPUkSlN0qnl5PfMzPXLRCaNStQYo3o9/EZmGDjLQDqRNKumUVvJIyh/x8qpWfsS\n",
       "Q1HydDjzi410fpoSc+2hD2NO1QStyU/E44yHMZMeJqPqMFbM3hcUtt21bX+vFWtKz8SWU+Na8XeJ\n",
       "Yr6ldmrm7P0Pn7qgnahz8eLBbFWN2gs1884hHm8QCdTT4OYb9waWJ5Ix0FQt40UC0wpzPdin7wmh\n",
       "BB1va8+rJ1CyAUZUulTVavwn1GHWvgGS/Dcww84W7y0rDkUs61VroBKqxM2MTZFlUKuOMo0GpyDe\n",
       "nTYHuEBinR4hp61esD5y8JQp1BgfHpxSBWLaPwhqtj0/eb1V8eFdZo9082PACr/piEs4/SnC9/YE\n",
       "k8eRcr1w/jix3HxdHfPsfL92BhS9GD20zwzTfwa+hCP/Y/VRCo9zWYbQZIVWM6A5NNcshtaJo9NF\n",
       "SmI1tQHUFmxQ4AcJ+154hwXDhny4bWctU2mN+gRmMjNWV64+6eupT58zMyPJCgrfHWRx0yJp0y+v\n",
       "kZTRZSFRkQqwuDITPVdc8OKGI38+hl32VeKTmAjOYL6GEXzMRx008Rqz3Njjnp7NcO15PCo75D14\n",
       "zkX3hmW7UlL9J9AixS40+Jlp4quzeFDHLed4dYVLHzF6xT/nbHGqUNvbqYocRnvVmi6gYhX0EdJp\n",
       "Dgw3AmI8oh1vuvwgIk9r7Qq2uXLJwxF3uySmB/fjVBwPuPjjpFHcNfBQZ7fwc2/9AlsUeLejeHRt\n",
       "fw8HI+yX5bEqM5qPgADQZrsNr4VLlfep1ogcTJtOXCY0qAPmHeqIVaTnYrwhHDGJYjC38d/lBHrj\n",
       "ylAoYpI3LKtGBvsohQ6HIryu5adWZpuKLLcBL4UA3n8EtaQXUz/Hb0G3JWarJWucvhQWL/lauXn4\n",
       "Q69/bRuAABhbHhS5RqzXW0AAApsAAASiQZohbEP//qmWACI+ibAErj0755LplWsU1/490K+qNO2k\n",
       "1WJ3V+U5FT/oaNdl8EF7XXDmjYqBeOGJym4rpzc9iyZTf7TftahI72wO2BakU2Vmb/v1tx0arBAO\n",
       "EMdMeA0NX5EoQqJFt3+rZavMGyU56qCkyvwd/vSRz7dKEhBV303krNWocv9fZFmPyDFCZA9CW4zi\n",
       "xAnjv9sTMuH8uyZbpecYzq1Oh5FGRlCM1E7Ld/2FXRqSRTwG0J57JO7VxTVXmeRvczIrb/HVNGUa\n",
       "VS+W3XgekkXA2JgP9XAGP5CFqnuF7/JD0Fv6yy46qBuzFY41NQY2T//7cSpHlO8BI96UQ2I4icJP\n",
       "zbLOTUnvpYcDv7+c82ThYMc/PreQae/kN/NJc4aXm6QOLN3B6PRt7DmZOQP2WYsRWK4JN7t3LYNZ\n",
       "bI8L7sgJGZ69tPz1Wx62OTURWMpl12FVVQUEjelWLE4FbhB7lZdlM8PTcSKgFF+xMX6UeUONuca4\n",
       "5KuTwjPM8s0ngh2y6K8msWs3eY5Cfbr17JQQH0i++6ZvTkoQ/rzNGiQZzMYwl4U8CuLEme/lOAoK\n",
       "kACK4tVlQDlm0bBxvpbx9FXV/yY+Q6rI+lBB3RQmKZhNrcjhnKtlV7k7QLEPF4UEXsv73AtS1VaR\n",
       "cR5N9GCF4Tke7uhlyp5nzDm6D4aIWXgSlAP8hWrT2EjSR3bWXA5iJpL7BOIeIpzqgFw3ZbRvmZpb\n",
       "WNYAdtSKzBTmxEL2cdRz9Pe1YCmureXbf//P41Qv/kt8RTd1/l5roQ4B+PYq6fr0A/oY2T9vCgRB\n",
       "nmcIg275m5sZquagH5lHXprqJYlrksmBAEFxy8OMXE/64jdTPZpLB4vzl22zKM4VlaeK+ktNiiTo\n",
       "yoKFFtJRrRRSGGcUv45KarS3R/SB8iOtTvxpgW7ew/tKztenCCh/S0TNp0qOCbT878PnwK8Z4nWa\n",
       "EFBCugISbtyRSYDVcuH3ST1zkD2PE4hG3Y4icDGSvYyNCFaVUWlL14ikhLIuO1h9EPcAlqkW1cUP\n",
       "Fqt6rz85xXbz/FPsMhCwr1pbs/b9GofawvFhTk+nIGWGyWVbt3HtxAM0jq00B+4aUytXkfRCV7j3\n",
       "xORw49ITR2s2otGRi1Y4SG7xooZxYzZQrHh7+uLfF9hl1T/1KweHtVsCSVHsQ42FWtvgGZW8Hd+a\n",
       "kKA7yn4w5+iwy8GLrlPMVhN6odKAAbuXtji2VuduGaMIXpq5wAHb9B9WmD/3qT9uwo3AsaDwDI22\n",
       "sCpa54W59xGErvyew1fQF0qzyKWsfaY/hqPvEF48YYOmu68vpkzcKjceCT6SRkdRqyEMA711t1KL\n",
       "H23etyAyyumnzEf4jI/U/0KOie/rxGIiXefENvrUpfFrzimiiiL818LnryiUouT/jXNFbBWz7wAb\n",
       "HZjBhor/IPzuAdNNI0msVpyKpWApjim37JiYjFsTrQyco4GP3dSC7XBmfSG/YsaEBcGllsaI1E/q\n",
       "p0lmBjekQUKVZNeAh60vT1t7TEI3ZX1S1NEHj0T3p9kjS2aupcypCbzwovp3pT5+2vP+aWCwzc76\n",
       "J6AXn2yQfjBtASqbIAAABcFBmkM8IZMphDv//qmWACEFHR1ija+RxYJitYGHzuTWoCQPno5l186D\n",
       "AfbIgL/iMDOv4B6s1I15O4oNTti2JL8LCBs/P/fglRS1qfzAOHHknM1NUqupWDq5ghkzXPyg/efk\n",
       "YEv7hyW8ls8cy7NVOM3+E66IYuOpW+48+sZFCEIN8EaAG+KQulmN6mHa3K1372djm4CSEC4y9vGL\n",
       "aDvPfDRM1qa7jk4Djaqwjg3sez5eeXKOBfBSxIXHC1K6/YYKn+gvPYsHJnJraZwzx0XA/mfuig8O\n",
       "enDeXMSeaHMrpSgh6hSLucB39vAoKQSg+/IJbCecpuBfJVk1tVXescABOOacyOidiUHxX1KdhLyf\n",
       "QgDOVSRX5CLV9GXIGXvnRTN8l1IFylJDfXMLou38fRwHNhfVcvk93KQl/pAqcuOwSY1B6ZrpiTio\n",
       "F3yhErYvY249Cqy55lKY5EwMFgAeET4ti4TYYt4yAs4Bco8CoZCDAniOMNpNGaOLI9tTd6E8fbHW\n",
       "2W1WdDVYJ7a0++8v18dpsK/DF0Meypl2o+BOCbTINwkUu4LCYOmmhFcKsxK3MJmYAFXM9k979eBu\n",
       "SmukpTwFE/v/ftoqugbxZmI7kG0CYSUmGUw8JMndyRG6eKjZjkZ7uQimSK7gMxnLh7gfWFPNUFxv\n",
       "ksF/DDhvpY1XrTsfO4ot+vge1Ey2pXmIVki23QIyq6KYIxaZ6jeiHpQ8ydS3s19dq1g+MVIoMf8W\n",
       "68e+kl06XSWoWK7FOa/EMfUkjqalvNVuJlrKjlc+VVnGC7RE+uDLUmDAOGN6qNt271AmT8QbJo82\n",
       "EfnMEFcIi0NjNFmuGeTXW0y7C1YwF3OxKmTU++HpBUGv7/JqSHcBnxPsr5wtWsj0kQqIJV6WoxSd\n",
       "7b7XPMWSsCsv3FCrfE1N1e474lEnRWv5P2sd0EP+qLlKDb2Fkp4sn/gd0uTvoW7YsGWLd5VIvEFL\n",
       "SpgFxb5zVI6vUKbTXF/3hfA1kZQsIyU8wQGDCUVGCe0Lk3AQyVXqOA4gBKvyClJa3i/8O+wf4hfD\n",
       "hXtHfEL3N3XxYwwbNe7YyhHQMNDgTdV4ce/6FFMRxN6jypC1WD5g/Gj1UEBzFk4d/D9HiD8zGD38\n",
       "sv1ex4exzbM4SsQG4ImXiyT3xC7szDFqOZo/vMdY/bHDi9EhBCPsH+68KnLsUEL7f0PYaLUNq4xO\n",
       "t31pXCK2xNBIDzxKm+QHRQUOFE6ztHm03VHyAbOkxcROwG+Nf9zpsWD0x5G3mdUFx/seQSVX4vcp\n",
       "3ZSEyKm2xpHs2dhYWqXNhB8pSnZxXaCiEXpLWfaukCm/HKfzFmcHoLsoDn4f/ZC+GqHXi2msOoD9\n",
       "W1feLbRdg+g7kwyr1dMdOkXrKPLB3akZth9Ai9MarpVu6bkHW/nZ7DipRzqLFXV1aeFyknesNt3x\n",
       "nw16l8obnyNHpDf1/uW+W5nQ034mo5gxKHREGNnKG02qvVkA/h8XwZwU6nEwsW+0olmAfqsHfDM+\n",
       "+VA+YulJAZQPE6+iPg1crEiMD0vKSNvpAHRrb+1eHiBZ3X51W/LH6QvmUdMcW1PDfmaY8PNWM3xu\n",
       "oFiJPnxvJ99DrVoYIv0A36zrp74TKtkN3R1wm49ZZPQ08JSDFjRLsnYR8EbaB6OBTOQBKgAU5d1c\n",
       "JTKab/pXFMqVbT28yHVUAky78Tjx4N5HPazWQICNTMga9eBPzIRD8L+qBXneZQUj05Es4iyL3TR6\n",
       "ufOMof8jMYO8d6iaMEngue5Td6uQTIdqIFHL7uH45AK50RLSsNLI/x8FZE4DbDqERZEAXC3E5pOL\n",
       "9QZY0oe1JcUVoeaFrAot0T5xIvJN1VqPFp+Y6UHfE5shy1eaS0wl0qqosdnaG/QwdDYm2hmAyxTQ\n",
       "2NqG2YcAPEyoGnJ0laHb2xsQAmnHUJ4AV0jcqx7he5aZqrHP8ZFcrWMhPskdYyMIKD235MbK8rWv\n",
       "didsKFp76YEAAAJAAZ5iakM/AArLCWkZglHmiIrlmvW4/BlBPIWzhzEn1b/oM94pX0lRZiupu86A\n",
       "FjAVVX2b+eDB/E4rhgRpv2qDp/CDDQGVobT5L+IE592gFgzrmSDuwFcssYlty+tNJ/XP5+1uvHNv\n",
       "zuhB5IU8Z7KSIYNXmJp94ZT+syQ/b07VcZsdCgcqh5zEML8Ik0sHv65R4CuLL1hqQVj8FYh4Z9D4\n",
       "X83xymIKP62QoiBQ44H8n/ox5dYe+9x+Dz62+JqAzfRs6kgRY2f3bUQXkTctwE+3wU+pcXUinXRU\n",
       "gDW09lgMwZ2FigksgDD9eBZbJUXxcBICyDs8ihz0lEVxtmvCMjxgI695ZG8bHeyUHQRuKXJ9KXhA\n",
       "avcDf4EhOYxQOWnT64StJmd3KReNft0mAeEQs4n57v1vchwjpB+yJv6hGmLRcDtmoZjlkh2J22Su\n",
       "SmsHey8i2EXTRjL/FIhmjGFqnHS37C83Gv+2em/paxfZstG0SE3pykvFn6kjYiPOnwCJnLG3H/9O\n",
       "wkrtQc1ccyNDe2dSrQPOn8fNOAhkwEunqnjpgF15N7U/6YLpS9r0Bg5RYHTa9hHcjilS/JAXYHfM\n",
       "6P0FhCd1dTp8Z2jrEecJPjnSTLm63+40nWSoDE03XkVAUD9UzsTWQoGLQHkLX0FVLF/VBrhpbsMb\n",
       "GiWwsB+hEcgACkBrYVfqcXtjUTqk9bK1Yf5HVsDVd4HDlPSwLbfJ0uaS7IlH9bfNlrYdYpqjlHlE\n",
       "2c804Lg8fCvz/E8GiKqqT6qqAAAC10GaZEnhDyZTAh3//qmWACMFHCMBuaKtdB18/Cvsz/WjuvnV\n",
       "u4+hX0RLk3c8jEbeAhlWusPk8cUFqlVEEmEntssv4nAn6cAuJQhyextFbpp5AyuvJBrLz4Lt1PcO\n",
       "spqCN9/laZ/s/cuZVGbYuoPzy9HU6GZG/3/13s/t1gHUPX1hPM04vaxO+pJ3dZCWa5Q2vq0J3oan\n",
       "xkpcgINeg4agwstaEXoutwnIn6Ard7i1zFDvARkwC9PLPXxTXUI9I9zN6Q1qQpG7b7S4ERMquA6c\n",
       "MkwOw2mQbdufz8hCDZBIK2FHlwvbXgcir44JLtTG5upCDeESJSzHgCqmd09am82m35SseYCiXh6F\n",
       "l3oPZ93cF2AdxcryDlEm7wQ2cAXOTBVzWVzdyOd812pLgks/Vgtsottf2uZRsSobcpfhNnBQxqUr\n",
       "iO/N4fbyQRKst3YmkCtbdGYzOsNm4vqc3CTZQGx2tvC3RZi147pq0gNdahy6XvVqac4xuJQJeS03\n",
       "3Im82vJSYlagf4+dyvMod3vvSG+R8pA3TslYke0Qf+RCeaKnEkux84FlR220BRDmQD8jCtO6+vdx\n",
       "Ce2AoYBY/6eL+qjzdsoH2YfsT/c4evMwOO2+RZzFVArYQVDKVXEPtkNl+bwU3+B76CKVFuPvBTOu\n",
       "/RJKWct7kAK//HTv7sU/0/0KApLXBt09O/WOPNR3otyOY/HqavWStSDnfMCm8GmuSydN+LtikuWB\n",
       "TkVYJDm9dqh+gmo9H6KBxOevxGQEcTtS2pBLbjWKR7jrBv/cduNaMt/9VEPrPmfLkk+gScYR8HU0\n",
       "r9o3TMHqe/b+/APWF5g+S1/tRggLiX/UaiENm38Wmd4+l6Ydx+Het01I5lI+gbtj4UemoLBY8SBm\n",
       "Cps/6DLevM6L0R2ZygZ1l6OY2ZzC7QlyU9K0nT4i7cOfHWAzTYKaikB+UMuthQbFa4jRPNQXo9tS\n",
       "KS7FiUuep00AAAPoQZqFSeEPJlMCH//+qZYAAC8fDI+d4B+7xkZ19+j9BE9R1bsL49ZNBjSxDOgj\n",
       "98P85kH9lQHSIpK1i7+f5m20lBBP2NZ9YeoeRjDumKTmM4LFY7b13UmTsxrWVUk2iCUft9W6gw1j\n",
       "IWWFzoyovhJpJ8dP8LgF9YKlpV6bKleP3yR+EgY6jR00C80DN0GdnvRkyjqFiR7ccKdFe4N/CCSc\n",
       "HGpVhKsiYzDSYwCw9yP0DT2gu2TzShIF0ZnIvzPGmsxwcUuoWtiCbHufgZBy9ryAnio9gh6U45QD\n",
       "t1u3WC4MuJsrt7OoQAITNaEvAhXRWC4OZ5NaEe2YtlV+fOKi6YcB4pEWWwKu9CPiUnkUAdOjKJAH\n",
       "BlHxlyuX6yG8FFHXUD1KOBwqLa9Bz8wi8Jtw7KbIZWJM3twlXaHjJhtcJCcoiNH1dcDw9OQVmffL\n",
       "SlacZeXeQ5/8COwIea/PLPoW3OrQxKtWhkStdSYiZYRHheZjVFqW21Krg9pIeVelqz4Zvz+MfUc+\n",
       "6D0jy3brZ1BCsLaoQUMwZ0pUrtJ22B5uSws6cCRkpfrdSs7gyGFhSlrHgItHRUtvBJccqNaGbyFX\n",
       "L37/v2qD558ZBBgyxNTyPXpRnz0dhy11dcortJ3uRWRwv9u6ebDOhqqagkEvoSD9ln7j+7KuDOTw\n",
       "VkjiKEQsbWn99b2nwq90Bem77f4pkhzLibZpTRvpnTtzQ54VH/rQsNW618f2Q1gnF7Pa7lAdljGp\n",
       "ubaBxrE05rhLGxbQcxy4slXtnnkIm3i2bQS3C+zl4PKOrYnZO5DjCMicBXxEQscRvTWdED9PtNpM\n",
       "LLlnTPaOnK+91RcWX7ABkZPI7WUQa+AOv4l4vnr3rLACth+x8mg9i7rk+nJVe6viB7HIIxPFCbsn\n",
       "MOJCkj1a0o9sUmx86KtDWhqbAjiX0zakJhxu6zBa1xxG3wzA7NqhLvWRF5nfQP7QNIv1pRDFVaoo\n",
       "fPryHJI2nvy5y2aJC27DDG60OgmkCHnXxhy2ZPeZIsQPDu0GJHHMLtn1aPzflNg0zcb8gxWSi0WX\n",
       "h0HTDVvHcZoDwVdx4ZHWVNVDyzE2e218+Drc3lvNwzYqMr6ItYvYgnXJirKf8N+sZXcnpVfDkrG7\n",
       "OOGue0MNbbKsfaDJ9huClzCSJoxHGZkK6dcoTmb97QHM7o8NbFJnd+xdMjssFyw5yLT9taufQQnC\n",
       "w/jE+e/OsskR07x3BykEltqrec/qnRRqy2lT9BZOfO86zAo/7+uJ8SwqOZdh90yjuH+CtTSAOVKp\n",
       "Mf8iWO7Vx9h31yO1cSPqV4fdXc89sFtRZf/HN3Ap9x5R0lBqpbe23Tz2fQAABZNBmqdJ4Q8mUwUR\n",
       "PDv//qmWACA/QbpBeK8qJ4VHq7YOa2+2OvbVMv3qWWvi452FfWRHBVVvM8flf/BBSCD5hepp9L2y\n",
       "VKpv8WdqT3gT9HY6fk8LYo4rlMO27jSImJx3lcT8DlWnxllnC8iZmuV5RU3zOcIE7PzWbQQAkmDj\n",
       "Ygf6Q2dDXHkGIYZp3wUM8rjBRJ/Avv+ThMHjyiaxj4dIcsbMcCZdI5wyNrt7WXVfvHo9zQxcWFuc\n",
       "7czlv8q1urKjaORiUHdbSYaaQ2khOyOeJIvcrog0h8VYGiC44WNV9fRuArCgRM6YRM2pgVyMeQaP\n",
       "kJIq4/c83fHhHim4F/Z/naLGYXjwHjwEFSiQsRQq/he46O32AYMb472bq1kmFDG8R/zidZUbFsLy\n",
       "ySbVGq2/FAUmx/6+FpW6qPlNY2sdl+mbgAt2dvV0/ybd9zgxioJjZesNFrDq5rACuuWP8uQkdKsG\n",
       "hHJRg66Yz4mIyhTUephyWlNwoxt7YRlSRVrn9V8gQQoRbcAxwIswyeWg75EsHY7yjTGrWuy52Mqt\n",
       "EOW/EwEwNq+Kj42Z8ZrrzwPdQr3mxvgpZ7i+vQ8bkScGOZLuMFce++P8fi1wg59zCweM1MDD0dUy\n",
       "0kQazOrdJZj4I151sEEuo8z1r9Ye6muCUvHHWm6nSdvoV0mhmaExQPMZOb7ZaOUX7PSh3BUSC5q8\n",
       "H8hi9MdonkknV16wFlKfBxCXRA8Z5ktxrn1UjCly80Pfdb99ziNeIDSIMmcLIX3d+9kZj4P3fKNN\n",
       "pd3GvZBNkEYx/Zc9UaNJsNPujvkN/RLdmOtfJp/wQsy4jqelHOawdDbmPrKxUkgH2haMPtR/ZE6e\n",
       "oLtnFtv/G9qY6NX2CFZFTxMsoFkWFplESNjaISfE6k8Rdc1miJvnGOjQaH0XC9QwAasheLEYGtSP\n",
       "Abs4pLYdF/Os/VpUKdnAE44Wm5dQTduFEpx0abP3ccmgNuPf5Oe13iA2NCZsWpZT8Fn72G8bqgHn\n",
       "RlcPNnDH9T/YHbXio9vvtG7UEyjBr9BPUJHJ6YZQSeRoasQ9kxru1mYh1J1eqzO7Se+F6Ew24WYN\n",
       "8hOiG1VJ61qR8kxD4ik/w+st0Kpgv3dq776O8knNc8yeFQd5p2gRvtR9vShueHew/+iTZBRFPuil\n",
       "EMZ6KTOffxfTWsHK7fCpJJNv1rskKtD5nC/IWuA1Ye/GvGoMyUOqZzGF4xHxQAuEVbl5r6TQSfMS\n",
       "5+FLl/7riHPQehSte+2GwU6cZpz01a3TH0UcmtphbQfdIXT5bcTOQw5/jW6/6f+kAUQrshV/ovG1\n",
       "fGX7Wud0qZO6NF6JQ0MZVSFHZGq7dVw3UAMiDCLkUXUvuWavTJJUjceQyafmbD8DREu4UPUXCHNq\n",
       "9vCY50yijCzz2c6YmLi7cRMOxTRedqIcr8Y42uUulkgSGToqcTzyYW9VVAB0aq/DIo/S6r21Zhzm\n",
       "01oip8jV9na6+nLGci/Uozddq3zSzZ99RnVfg0cb52A0vyzgoccbiB9zzmBIRd8jFO0q/JjU+8++\n",
       "2TGc1Y0xyXFBAngCE+kCuVFSZ0/KBCfNL0/Y3Nq7kId5bxcLCmsFWO0A/731AZOYB8QtmoxOVtEc\n",
       "OGycxbmrW4hbbd6G0n+ULAOpm4s3A2ttFM95IgVn9jD9BIdYqGZTg2c7RvYD9DD1IvoJiHXIPzhh\n",
       "6/p99oM6if2HylRFNj8W9xO+5hy7j2Wwd4jTFTY6PlII6QoTUG75mPtljLfSBgGw5WEGdASk7qSd\n",
       "S8BuxsmcDvrEVULVZtPQdfbiH+OBFdtbAQPiPELnyIfepG6Y2kTg7Gvk3o4bpo+kI2nt6lWqF6cM\n",
       "pgh1xlBrcDMZZKenzbl5JupVvE3Rb+OUHNe+TMgg3QqPImwXmefmcldpHI9kVCKdHwAAAmQBnsZq\n",
       "Qz8ACssLSBKXVZ5o58uO24WaPIEqi4OWanIyldV1rawASt0ia0o0CTzJHX4m8eMAmMECZoDLpUx7\n",
       "vCLSYFXM1pd4hbeYc9F5ZS8/YDp2z/8JqG8QnTYyXfvuSxa4lqjRZsDDy65ivHY2h8iJVqwIfm59\n",
       "diUQstImt5Yn2mOAA5ijTjgEziShEpnha3HCTP3LYDlCeb/lib8oQPE/OkucN3b8pKeAEfnPN8pk\n",
       "zEWHe2xTGt8w5VK3S5Z/+/rL0XgVe8iQVxsqouGTPMkeWCY/AmIjEn1FtGstGNcMY8mEo0lXjz8h\n",
       "55zzyuyoHQsfR8V/u1p9uYj0Ry0B45hf7yJ9R7BVvWqntmZe2ASiCzZ6soUzjxZzH48o5czbUKfk\n",
       "yH7bCTX9yCy0T0HBfsk3AWS5jiqNd19fDNiXL9IT81s1zYg7ME7gZkmWD2ZVjGuEtf3ZF+hChm01\n",
       "nN1yugp8YgCRDy5MxlbAIBDER8DbY3ju9XX02nCSV8xwfjF+emhaEdSabx3UpEny9+Qnz9hC53jP\n",
       "/QTgt6siLE4GitRJJCXBZmlqpGQ2GCd7+44f/BJaux3SHawBBJYC3DanU2/HmfsFK0XxtVB+UCcn\n",
       "kS5qyVhHSXSp2jiZgJPKjEeUNMB61AOIymtjfsNV89gyc1T26/T8m7e1Lidu22Y3GCUKGLEvalUi\n",
       "Mo1Gnh28UoZ3TYNkuXGbL/8bxqtV3VYtxD3p181haZTLX00so/bqDW0RPqp8h8/scZ4yxBNEfPgk\n",
       "Vs5PuZUO9dzBFVrmLvGzzWhNDVKnS1yNRhkaBoGJVCC8DpJJlnEAAALeQZrISeEPJlMCG//+p4QA\n",
       "AB5UfDpsIEBZiqWAAGiF1KFvjCixd1+/FEjex0q0RuX/j6RBIT4Gc+EXjhfXHDKq7pxy81bNozVn\n",
       "+f2fVm60uRy7sVtdXfDR+F08tqBOya++vNMBuMkn7aVbcBFvOzrQtjKpj5buhAPJ+1dqSjabM6n+\n",
       "6U9u4tQVHF6cWxy0RLr7XcsTBvXjOahq6CKza1pbR4O2LCMBjIKW1VDBdDMgmWhf5HJJ4keiqodU\n",
       "UQfB9tJHNGpvb1BjHHauJw9DXNF2BzRZZx4TmRqL3YT28rlnivkwsQTMf2Ei+JmNBT4vU8tdiWUR\n",
       "vQCOZlyvfbe9Wuix/OVNohPKrD/uY0FFmyg7txjFK/6I40y6LECOCDgMdAzkerDBdQxAMHidChC+\n",
       "bRrM6m6S/5hW6arflELvZQM9SbBy6FGa7v2yGsmwF9ffpmoqVTDxH1ZB+rY4eRg6mG8tm/DKsCCG\n",
       "VD6mAVnR3GS3sglcWLzRjrXVYGn/Q8EAjqn3nt06Tq+9IXDdc33mU8TJidzNrZFTcImreVo1LKTx\n",
       "xfMookox3los3WQQhqsQ964lwipu0ZJF5wPuxdnOtnxsjcwHolhA8AL8oA3N0y1ghAumvnIEny/A\n",
       "+QKLKmwKgX8K6gPSsg3OsexIQffKvpHkdH4rerX2SyuICyp0aSttfXONt0Eld78Ba5G50n2T9l6+\n",
       "oe8gynZuJWLCvqaU5jkEcqKJnt5nVCz9G66QzHaOXp4W01Lv88Qk0Gb9YgG/I8fJi0g3DeP5KNeK\n",
       "4dZjdqNAoHgM31aSKrYcQA4arqLH7SXpkQ90FrvIUy0NHkiqpZuRU7n6QHnGGNSdf/7wrbIVP6PK\n",
       "yzv29HPZ2dkvRCD9+oKyWK9qrLpsVZO8+wL3eRhomBituKTyLLGF7VMLyKvFM9mmmGdpTsXWak6W\n",
       "44DZkbi1QIN2zQ19CoJDeQGfCmDEWIX/q1ZkziuHvBBYm4AAAAKIQZrpSeEPJlMCGf/+nhAAASZZ\n",
       "YhrcQLgBI/qzZLwsB3jKU3nMzNLG+6OZbOY9MaDDMMgYboTt6Qsr9RwAQLFif+DNM/KpE0YnPrNu\n",
       "5lZYBln946ZwDc+8YUd7UJAAk+38LHea0/3BNRI9HLdBmzyAIHEY+L7eKJJ/dFpZ/ssV3ZX/hWsG\n",
       "eJQCx2r+Hl5JtYjpGouzug4AKFQKuLWyYKpqlpzNn9M667PWvW9RbVcDQH9FXy+vKKZvKUO3GOx/\n",
       "YnSsQjfH8n0HIkRh9IdvrIfJyggEuzASj5B5qDLQjvixuRyl/BpMAVYBmr834znTzhpiSg8AbWLP\n",
       "FnMkYgLoF5yT603LXU4fO40PNY1/Nej9TyiKaN5B/fw3t1mffXKxFgrGPe0kwNA04KRZXy70dszN\n",
       "XKayyQx0G732SS/ZkJg8GsaB6l5dowOM7k+qzfIEcj2ua42XAuWi48gSJeRxFuBYnxMv+T/fLQli\n",
       "mwoYXFyEemSBye5C8+kXq+0N3pETIpnhfsqDJXve9pOiET7VcigWHDCqZX3dycoe7MYzQkwEOtIX\n",
       "yA9IdkoygW1q5bKegpCIPcL9yiT9zKdWZdKH8twiKreXP0bCrgTXKlUV40r9wimNZfgj03DpAKCz\n",
       "O2ltwnb6uf4yPYUiNtQy6f9jnMRKyPxBtE2QCmuGcEjk/D2BVFxyE0O91YazIUMocvjl4fUtMWPk\n",
       "dzCCutHLHwfazS6RsHcGyNExyWy673q8xqeQydjphhMOJmwH3FVeymWN8QYnmHL/h2iByad0r1cY\n",
       "60k7e+QRMy13jbGo9BXXGmJjMwBTN7uzQxrhTZzRPih1QA7/PZMLmil3XTAdzlju7Pru8DHWy5mf\n",
       "/N6AAAADjm1vb3YAAABsbXZoZAAAAAAAAAAAAAAAAAAAA+gAAAMgAAEAAAEAAAAAAAAAAAAAAAAB\n",
       "AAAAAAAAAAAAAAAAAAAAAQAAAAAAAAAAAAAAAAAAQAAAAAAAAAAAAAAAAAAAAAAAAAAAAAAAAAAA\n",
       "AAAAAAIAAAK4dHJhawAAAFx0a2hkAAAAAwAAAAAAAAAAAAAAAQAAAAAAAAMgAAAAAAAAAAAAAAAA\n",
       "AAAAAAABAAAAAAAAAAAAAAAAAAAAAQAAAAAAAAAAAAAAAAAAQAAAAAKAAAAB4AAAAAAAJGVkdHMA\n",
       "AAAcZWxzdAAAAAAAAAABAAADIAAACAAAAQAAAAACMG1kaWEAAAAgbWRoZAAAAAAAAAAAAAAAAAAA\n",
       "MgAAACgAVcQAAAAAAC1oZGxyAAAAAAAAAAB2aWRlAAAAAAAAAAAAAAAAVmlkZW9IYW5kbGVyAAAA\n",
       "AdttaW5mAAAAFHZtaGQAAAABAAAAAAAAAAAAAAAkZGluZgAAABxkcmVmAAAAAAAAAAEAAAAMdXJs\n",
       "IAAAAAEAAAGbc3RibAAAALNzdHNkAAAAAAAAAAEAAACjYXZjMQAAAAAAAAABAAAAAAAAAAAAAAAA\n",
       "AAAAAAKAAeAASAAAAEgAAAAAAAAAAQAAAAAAAAAAAAAAAAAAAAAAAAAAAAAAAAAAAAAAAAAAABj/\n",
       "/wAAADFhdmNDAWQAFv/hABhnZAAWrNlAoD2hAAADAAIAAAMAMg8WLZYBAAZo6+PLIsAAAAAcdXVp\n",
       "ZGtoQPJfJE/FujmlG88DI/MAAAAAAAAAGHN0dHMAAAAAAAAAAQAAAAoAAAQAAAAAFHN0c3MAAAAA\n",
       "AAAAAQAAAAEAAABIY3R0cwAAAAAAAAAHAAAAAgAACAAAAAABAAAMAAAAAAEAAAQAAAAAAgAACAAA\n",
       "AAABAAAMAAAAAAEAAAQAAAAAAgAACAAAAAAcc3RzYwAAAAAAAAABAAAAAQAAAAoAAAABAAAAPHN0\n",
       "c3oAAAAAAAAAAAAAAAoAABkRAAAEpgAABcUAAAJEAAAC2wAAA+wAAAWXAAACaAAAAuIAAAKMAAAA\n",
       "FHN0Y28AAAAAAAAAAQAAACwAAABidWR0YQAAAFptZXRhAAAAAAAAACFoZGxyAAAAAAAAAABtZGly\n",
       "YXBwbAAAAAAAAAAAAAAAAC1pbHN0AAAAJal0b28AAAAdZGF0YQAAAAEAAAAATGF2ZjU4LjI5LjEw\n",
       "MA==\n",
       "\">\n",
       "  Your browser does not support the video tag.\n",
       "</video>"
      ],
      "text/plain": [
       "<IPython.core.display.HTML object>"
      ]
     },
     "execution_count": 22,
     "metadata": {},
     "output_type": "execute_result"
    }
   ],
   "source": [
    "visualize(test_set[0][0][0])"
   ]
  },
  {
   "cell_type": "code",
   "execution_count": 23,
   "metadata": {
    "id": "uRve9qrpLcZc"
   },
   "outputs": [],
   "source": [
    "class Encoder(tf.keras.layers.Layer):\n",
    "\n",
    "  def __init__(self):\n",
    "    super(Encoder, self).__init__()\n",
    "    self.enc = [\n",
    "        Enc_ConvB(64,(1,1)), # as the same H & W\n",
    "        Enc_ConvB(64,(2,2)), # as output with H/2 & W/2\n",
    "        Enc_ConvB(64,(1,1)), # as the same with above one\n",
    "        Enc_ConvB(64,(2,2)) # as output with H/4 & W/4\n",
    "    ]\n",
    "\n",
    "  def call(self, x):\n",
    "    # print('The x_encoder_in shape: ', x.shape)\n",
    "    x = self.enc[0](x)\n",
    "    self.skip_connection = x\n",
    "    x = self.enc[1](x)\n",
    "    x = self.enc[2](x)\n",
    "    x = self.enc[3](x)\n",
    "    # print('The x_encoder_out shape: ', x.shape)\n",
    "    return x, self.skip_connection"
   ]
  },
  {
   "cell_type": "code",
   "execution_count": 24,
   "metadata": {
    "id": "pxLhFFy8tjyL"
   },
   "outputs": [],
   "source": [
    "class Enc_ConvB(tf.keras.layers.Layer):\n",
    "  def __init__(self, out_channels_size, stride_size):\n",
    "      super(Enc_ConvB, self).__init__()\n",
    "      self.conv = tf.keras.layers.Conv2D(\n",
    "          filters=out_channels_size, \n",
    "          strides=stride_size, \n",
    "          kernel_size=(3,3), \n",
    "          padding='same')\n",
    "      self.norm = tfa.layers.GroupNormalization(groups=2, \n",
    "                                                epsilon=1e-5)\n",
    "      self.act = tf.keras.layers.LeakyReLU(alpha=0.2)\n",
    "    \n",
    "  def call(self, x):\n",
    "    x = self.conv(x)\n",
    "    x = self.norm(x)\n",
    "    x = self.act(x)\n",
    "    return x\n"
   ]
  },
  {
   "cell_type": "code",
   "execution_count": 25,
   "metadata": {
    "id": "ILgMDUTRuJ5j"
   },
   "outputs": [],
   "source": [
    "class Translator(tf.keras.layers.Layer):\n",
    "  def __init__(self):\n",
    "    super(Translator, self).__init__()\n",
    "    self.enc = [\n",
    "        Inception(256),\n",
    "        Inception(256),\n",
    "        Inception(256),\n",
    "        Inception(256),\n",
    "        Inception(256),\n",
    "        Inception(256),\n",
    "        Inception(256),\n",
    "        Inception(256)\n",
    "    ]\n",
    "    self.dec = [\n",
    "        Inception(512),\n",
    "        Inception(512),\n",
    "        Inception(512),\n",
    "        Inception(512),\n",
    "        Inception(512),\n",
    "        Inception(512),\n",
    "        Inception(512),\n",
    "        Inception(640)\n",
    "    ]\n",
    "  \n",
    "  def call(self, x):\n",
    "    # print('The x_translator_in shape: ', x.shape)\n",
    "    x = tf.reshape(x, shape=(16, 10, 16, 16, 64))\n",
    "    x = tf.transpose(x, [0,2,3,1,4])\n",
    "    # print('The x_translator_after_transpose_1 shape: ', x.shape)\n",
    "    x = tf.reshape(x, shape=(16, 16, 16, 10*64))\n",
    "    IncepEnc_1 = self.enc[0](x)\n",
    "    # print(\"The x_IncepEnc_1 shape: \", IncepEnc_1.shape)\n",
    "    IncepEnc_2 = self.enc[1](IncepEnc_1)\n",
    "    # print(\"The x_IncepEnc_2 shape: \", IncepEnc_2.shape)\n",
    "    IncepEnc_3 = self.enc[2](IncepEnc_2)\n",
    "    IncepEnc_4 = self.enc[3](IncepEnc_3)\n",
    "    IncepEnc_5 = self.enc[4](IncepEnc_4)\n",
    "    IncepEnc_6 = self.enc[5](IncepEnc_5)\n",
    "    IncepEnc_7 = self.enc[6](IncepEnc_6)\n",
    "    IncepEnc_8 = self.enc[7](IncepEnc_7)\n",
    "\n",
    "    IncepDec_1 = self.dec[0](IncepEnc_8,)\n",
    "    temp = tf.concat((IncepDec_1, IncepEnc_7), axis=3)\n",
    "    IncepDec_2 = self.dec[1](temp)\n",
    "    temp = tf.concat((IncepDec_2, IncepEnc_6), axis=3)\n",
    "    IncepDec_3 = self.dec[2](temp)\n",
    "    temp = tf.concat((IncepDec_3, IncepEnc_5), axis=3)\n",
    "    IncepDec_4 = self.dec[3](temp)\n",
    "    temp = tf.concat((IncepDec_4, IncepEnc_4), axis=3)\n",
    "    IncepDec_5 = self.dec[4](temp)\n",
    "    temp = tf.concat((IncepDec_5, IncepEnc_3), axis=3)\n",
    "    IncepDec_6 = self.dec[5](temp)\n",
    "    temp = tf.concat((IncepDec_6, IncepEnc_2), axis=3)\n",
    "    IncepDec_7 = self.dec[6](temp)\n",
    "    temp = tf.concat((IncepDec_7, IncepEnc_1), axis=3)\n",
    "    IncepDec_8 = self.dec[7](temp)\n",
    "\n",
    "    x = IncepDec_8.reshape(16,16,16,10,64)\n",
    "    # print('The x_translator_after_all_inceptions shape: ', x.shape)\n",
    "    x = tf.transpose(x, [0,3,1,2,4])\n",
    "    # print('The x_translator_out shape: ', x.shape)\n",
    "    \n",
    "\n",
    "    return x\n",
    "\n",
    "\n"
   ]
  },
  {
   "cell_type": "code",
   "execution_count": 26,
   "metadata": {
    "id": "tIqtUvR2uJ3f"
   },
   "outputs": [],
   "source": [
    "class Inception(tf.keras.layers.Layer):\n",
    "  def __init__(self, C_out):\n",
    "    super(Inception, self).__init__()\n",
    "    self.conv1 = tf.keras.layers.Conv2D(\n",
    "        filters=128, \n",
    "        strides=1, \n",
    "        kernel_size=(1,1)) # as the same H & W\n",
    "    self.layers = [\n",
    "        GroupConv(C_out,(3,3)),\n",
    "        GroupConv(C_out,(5,5)),\n",
    "        GroupConv(C_out,(7,7)),\n",
    "        GroupConv(C_out,(11,11))\n",
    "    ]\n",
    "\n",
    "  def call(self, x):\n",
    "    x = self.conv1(x)\n",
    "    y1 = self.layers[0](x)\n",
    "    y2 = self.layers[1](x)\n",
    "    y3 = self.layers[2](x)\n",
    "    y4 = self.layers[3](x)\n",
    "    return (y1+y2+y3+y4)\n"
   ]
  },
  {
   "cell_type": "code",
   "execution_count": 27,
   "metadata": {
    "id": "BvUBTnyguJ1I"
   },
   "outputs": [],
   "source": [
    "class GroupConv(tf.keras.layers.Layer):\n",
    "  def __init__(self, C_out, k):\n",
    "    super(GroupConv, self).__init__()\n",
    "    self.conv = tf.keras.layers.Conv2D(filters=C_out, strides=(1,1), kernel_size=k, padding='same', groups=8)\n",
    "    self.norm = tfa.layers.GroupNormalization(groups=8, epsilon=1e-5)\n",
    "    self.act = tf.keras.layers.LeakyReLU(alpha=0.2)\n",
    "  \n",
    "  def call(self, x):\n",
    "    x = self.conv(x)\n",
    "    x = self.norm(x)\n",
    "    x = self.act(x)\n",
    "    return x"
   ]
  },
  {
   "cell_type": "code",
   "execution_count": 28,
   "metadata": {
    "id": "C_0jyau8ubZq"
   },
   "outputs": [],
   "source": [
    "class Decoder(tf.keras.layers.Layer):\n",
    "  def __init__(self):\n",
    "    super(Decoder, self).__init__()\n",
    "    self.dec = [\n",
    "        Dec_ConvB(64, (2,2), True), # double x & y\n",
    "        Dec_ConvB(64, (1,1), False), # same x & y\n",
    "        Dec_ConvB(64, (2,2), True), # double x & y\n",
    "        Dec_ConvB(64, (1,1), False) # same x & y\n",
    "    ]\n",
    "    self.readout = tf.keras.layers.Conv2D(1, kernel_size = (1,1))\n",
    "  \n",
    "  def call(self, x, skip_connection):\n",
    "    # print('The x_decoder_in shape: ', x.shape)\n",
    "    x = tf.reshape(x, shape=(16*10, 16, 16, 64))\n",
    "    x = self.dec[0](x)\n",
    "    x = self.dec[1](x)\n",
    "    x = self.dec[2](x)\n",
    "    # print('The x_decoder_after dec_1_2_3 shape: ', x.shape)\n",
    "    # print('The skip_connection shape: ', skip_connection.shape)\n",
    "    x = tf.concat((x, skip_connection), axis=3)\n",
    "    x = self.dec[3](x)\n",
    "    x = self.readout(x)\n",
    "    x = tf.reshape(x, shape=(16, 10, 64, 64, 1))\n",
    "    # print('The x_decoder_out shape: ', x.shape)\n",
    "    return x"
   ]
  },
  {
   "cell_type": "code",
   "execution_count": 29,
   "metadata": {
    "id": "OEN-7nABubXh"
   },
   "outputs": [],
   "source": [
    "class Dec_ConvB(tf.keras.layers.Layer):\n",
    "  def __init__(self, C_out, s, transpose):\n",
    "    super(Dec_ConvB, self).__init__()\n",
    "    self.transpose = transpose\n",
    "    if transpose == True:\n",
    "      self.conv = tf.keras.layers.Conv2DTranspose(filters=C_out, strides=s, kernel_size=(3,3), padding='same', output_padding = (1,1))\n",
    "    else:\n",
    "      self.conv = tf.keras.layers.Conv2D(filters=C_out, strides=s, kernel_size=(3,3), padding='same')\n",
    "    self.norm = tfa.layers.GroupNormalization(groups=2, epsilon=1e-5)\n",
    "    self.act = tf.keras.layers.LeakyReLU(alpha=0.2)\n",
    "\n",
    "  def call(self, x):\n",
    "    x = self.conv(x)\n",
    "    x = self.norm(x)\n",
    "    x = self.act(x)\n",
    "    return x\n"
   ]
  },
  {
   "cell_type": "code",
   "execution_count": 30,
   "metadata": {
    "id": "bcxym-P2ubVJ"
   },
   "outputs": [],
   "source": [
    "class Model(tf.keras.layers.Layer):\n",
    "  def __init__(self):\n",
    "    super(Model, self).__init__()\n",
    "    self.enc = Encoder()\n",
    "    self.hid = Translator()\n",
    "    self.dec = Decoder()\n",
    "  \n",
    "  def call(self, x):\n",
    "    x = tf.reshape(x, shape=(160, 64, 64, 1))\n",
    "    # print('The x_raw shape: ', x.shape)\n",
    "    x, skip_connection = self.enc(x)\n",
    "    x = self.hid(x)\n",
    "    Y = self.dec(x, skip_connection)\n",
    "    return Y\n"
   ]
  },
  {
   "cell_type": "code",
   "execution_count": 31,
   "metadata": {
    "id": "_NaO3JxAsPSH"
   },
   "outputs": [],
   "source": [
    "model = tf.keras.Sequential(Model())"
   ]
  },
  {
   "cell_type": "code",
   "execution_count": 37,
   "metadata": {
    "colab": {
     "base_uri": "https://localhost:8080/"
    },
    "id": "5TTV-zg3_FrX",
    "outputId": "7ef813c3-d4eb-40b6-c7f7-b214f58b0891"
   },
   "outputs": [
    {
     "data": {
      "text/plain": [
       "TensorShape([16, 10, 64, 64, 1])"
      ]
     },
     "execution_count": 37,
     "metadata": {},
     "output_type": "execute_result"
    }
   ],
   "source": [
    "b = tf.ones((16, 10, 64, 64, 1))\n",
    "model(b).shape"
   ]
  },
  {
   "cell_type": "code",
   "execution_count": 33,
   "metadata": {
    "id": "QtgrNTcCsPO5"
   },
   "outputs": [],
   "source": [
    "model.compile(\n",
    "    optimizer = \"adam\",\n",
    "    loss = \"mse\",\n",
    "    metrics = ['mse', 'mae']\n",
    ")"
   ]
  },
  {
   "cell_type": "code",
   "execution_count": 38,
   "metadata": {
    "colab": {
     "background_save": true,
     "base_uri": "https://localhost:8080/"
    },
    "id": "ceTVZz6VuJoU",
    "outputId": "fac78f37-5b9f-4ea6-c4af-697ac0011f5c"
   },
   "outputs": [
    {
     "name": "stdout",
     "output_type": "stream",
     "text": [
      " 16/563 [..............................] - ETA: 31:09 - loss: 0.8433 - mse: 0.8433 - mae: 0.6453"
     ]
    },
    {
     "ename": "KeyboardInterrupt",
     "evalue": "",
     "output_type": "error",
     "traceback": [
      "\u001b[0;31m---------------------------------------------------------------------------\u001b[0m",
      "\u001b[0;31mKeyboardInterrupt\u001b[0m                         Traceback (most recent call last)",
      "Cell \u001b[0;32mIn[38], line 1\u001b[0m\n\u001b[0;32m----> 1\u001b[0m \u001b[43mmodel\u001b[49m\u001b[38;5;241;43m.\u001b[39;49m\u001b[43mevaluate\u001b[49m\u001b[43m(\u001b[49m\u001b[43mtest_set\u001b[49m\u001b[43m)\u001b[49m\n",
      "File \u001b[0;32m~/opt/anaconda3/lib/python3.9/site-packages/keras/utils/traceback_utils.py:65\u001b[0m, in \u001b[0;36mfilter_traceback.<locals>.error_handler\u001b[0;34m(*args, **kwargs)\u001b[0m\n\u001b[1;32m     63\u001b[0m filtered_tb \u001b[38;5;241m=\u001b[39m \u001b[38;5;28;01mNone\u001b[39;00m\n\u001b[1;32m     64\u001b[0m \u001b[38;5;28;01mtry\u001b[39;00m:\n\u001b[0;32m---> 65\u001b[0m     \u001b[38;5;28;01mreturn\u001b[39;00m \u001b[43mfn\u001b[49m\u001b[43m(\u001b[49m\u001b[38;5;241;43m*\u001b[39;49m\u001b[43margs\u001b[49m\u001b[43m,\u001b[49m\u001b[43m \u001b[49m\u001b[38;5;241;43m*\u001b[39;49m\u001b[38;5;241;43m*\u001b[39;49m\u001b[43mkwargs\u001b[49m\u001b[43m)\u001b[49m\n\u001b[1;32m     66\u001b[0m \u001b[38;5;28;01mexcept\u001b[39;00m \u001b[38;5;167;01mException\u001b[39;00m \u001b[38;5;28;01mas\u001b[39;00m e:\n\u001b[1;32m     67\u001b[0m     filtered_tb \u001b[38;5;241m=\u001b[39m _process_traceback_frames(e\u001b[38;5;241m.\u001b[39m__traceback__)\n",
      "File \u001b[0;32m~/opt/anaconda3/lib/python3.9/site-packages/keras/engine/training.py:2040\u001b[0m, in \u001b[0;36mModel.evaluate\u001b[0;34m(self, x, y, batch_size, verbose, sample_weight, steps, callbacks, max_queue_size, workers, use_multiprocessing, return_dict, **kwargs)\u001b[0m\n\u001b[1;32m   2036\u001b[0m \u001b[38;5;28;01mwith\u001b[39;00m tf\u001b[38;5;241m.\u001b[39mprofiler\u001b[38;5;241m.\u001b[39mexperimental\u001b[38;5;241m.\u001b[39mTrace(\n\u001b[1;32m   2037\u001b[0m     \u001b[38;5;124m\"\u001b[39m\u001b[38;5;124mtest\u001b[39m\u001b[38;5;124m\"\u001b[39m, step_num\u001b[38;5;241m=\u001b[39mstep, _r\u001b[38;5;241m=\u001b[39m\u001b[38;5;241m1\u001b[39m\n\u001b[1;32m   2038\u001b[0m ):\n\u001b[1;32m   2039\u001b[0m     callbacks\u001b[38;5;241m.\u001b[39mon_test_batch_begin(step)\n\u001b[0;32m-> 2040\u001b[0m     tmp_logs \u001b[38;5;241m=\u001b[39m \u001b[38;5;28;43mself\u001b[39;49m\u001b[38;5;241;43m.\u001b[39;49m\u001b[43mtest_function\u001b[49m\u001b[43m(\u001b[49m\u001b[43miterator\u001b[49m\u001b[43m)\u001b[49m\n\u001b[1;32m   2041\u001b[0m     \u001b[38;5;28;01mif\u001b[39;00m data_handler\u001b[38;5;241m.\u001b[39mshould_sync:\n\u001b[1;32m   2042\u001b[0m         context\u001b[38;5;241m.\u001b[39masync_wait()\n",
      "File \u001b[0;32m~/opt/anaconda3/lib/python3.9/site-packages/tensorflow/python/util/traceback_utils.py:150\u001b[0m, in \u001b[0;36mfilter_traceback.<locals>.error_handler\u001b[0;34m(*args, **kwargs)\u001b[0m\n\u001b[1;32m    148\u001b[0m filtered_tb \u001b[38;5;241m=\u001b[39m \u001b[38;5;28;01mNone\u001b[39;00m\n\u001b[1;32m    149\u001b[0m \u001b[38;5;28;01mtry\u001b[39;00m:\n\u001b[0;32m--> 150\u001b[0m   \u001b[38;5;28;01mreturn\u001b[39;00m \u001b[43mfn\u001b[49m\u001b[43m(\u001b[49m\u001b[38;5;241;43m*\u001b[39;49m\u001b[43margs\u001b[49m\u001b[43m,\u001b[49m\u001b[43m \u001b[49m\u001b[38;5;241;43m*\u001b[39;49m\u001b[38;5;241;43m*\u001b[39;49m\u001b[43mkwargs\u001b[49m\u001b[43m)\u001b[49m\n\u001b[1;32m    151\u001b[0m \u001b[38;5;28;01mexcept\u001b[39;00m \u001b[38;5;167;01mException\u001b[39;00m \u001b[38;5;28;01mas\u001b[39;00m e:\n\u001b[1;32m    152\u001b[0m   filtered_tb \u001b[38;5;241m=\u001b[39m _process_traceback_frames(e\u001b[38;5;241m.\u001b[39m__traceback__)\n",
      "File \u001b[0;32m~/opt/anaconda3/lib/python3.9/site-packages/tensorflow/python/eager/polymorphic_function/polymorphic_function.py:880\u001b[0m, in \u001b[0;36mFunction.__call__\u001b[0;34m(self, *args, **kwds)\u001b[0m\n\u001b[1;32m    877\u001b[0m compiler \u001b[38;5;241m=\u001b[39m \u001b[38;5;124m\"\u001b[39m\u001b[38;5;124mxla\u001b[39m\u001b[38;5;124m\"\u001b[39m \u001b[38;5;28;01mif\u001b[39;00m \u001b[38;5;28mself\u001b[39m\u001b[38;5;241m.\u001b[39m_jit_compile \u001b[38;5;28;01melse\u001b[39;00m \u001b[38;5;124m\"\u001b[39m\u001b[38;5;124mnonXla\u001b[39m\u001b[38;5;124m\"\u001b[39m\n\u001b[1;32m    879\u001b[0m \u001b[38;5;28;01mwith\u001b[39;00m OptionalXlaContext(\u001b[38;5;28mself\u001b[39m\u001b[38;5;241m.\u001b[39m_jit_compile):\n\u001b[0;32m--> 880\u001b[0m   result \u001b[38;5;241m=\u001b[39m \u001b[38;5;28;43mself\u001b[39;49m\u001b[38;5;241;43m.\u001b[39;49m\u001b[43m_call\u001b[49m\u001b[43m(\u001b[49m\u001b[38;5;241;43m*\u001b[39;49m\u001b[43margs\u001b[49m\u001b[43m,\u001b[49m\u001b[43m \u001b[49m\u001b[38;5;241;43m*\u001b[39;49m\u001b[38;5;241;43m*\u001b[39;49m\u001b[43mkwds\u001b[49m\u001b[43m)\u001b[49m\n\u001b[1;32m    882\u001b[0m new_tracing_count \u001b[38;5;241m=\u001b[39m \u001b[38;5;28mself\u001b[39m\u001b[38;5;241m.\u001b[39mexperimental_get_tracing_count()\n\u001b[1;32m    883\u001b[0m without_tracing \u001b[38;5;241m=\u001b[39m (tracing_count \u001b[38;5;241m==\u001b[39m new_tracing_count)\n",
      "File \u001b[0;32m~/opt/anaconda3/lib/python3.9/site-packages/tensorflow/python/eager/polymorphic_function/polymorphic_function.py:912\u001b[0m, in \u001b[0;36mFunction._call\u001b[0;34m(self, *args, **kwds)\u001b[0m\n\u001b[1;32m    909\u001b[0m   \u001b[38;5;28mself\u001b[39m\u001b[38;5;241m.\u001b[39m_lock\u001b[38;5;241m.\u001b[39mrelease()\n\u001b[1;32m    910\u001b[0m   \u001b[38;5;66;03m# In this case we have created variables on the first call, so we run the\u001b[39;00m\n\u001b[1;32m    911\u001b[0m   \u001b[38;5;66;03m# defunned version which is guaranteed to never create variables.\u001b[39;00m\n\u001b[0;32m--> 912\u001b[0m   \u001b[38;5;28;01mreturn\u001b[39;00m \u001b[38;5;28;43mself\u001b[39;49m\u001b[38;5;241;43m.\u001b[39;49m\u001b[43m_no_variable_creation_fn\u001b[49m\u001b[43m(\u001b[49m\u001b[38;5;241;43m*\u001b[39;49m\u001b[43margs\u001b[49m\u001b[43m,\u001b[49m\u001b[43m \u001b[49m\u001b[38;5;241;43m*\u001b[39;49m\u001b[38;5;241;43m*\u001b[39;49m\u001b[43mkwds\u001b[49m\u001b[43m)\u001b[49m  \u001b[38;5;66;03m# pylint: disable=not-callable\u001b[39;00m\n\u001b[1;32m    913\u001b[0m \u001b[38;5;28;01melif\u001b[39;00m \u001b[38;5;28mself\u001b[39m\u001b[38;5;241m.\u001b[39m_variable_creation_fn \u001b[38;5;129;01mis\u001b[39;00m \u001b[38;5;129;01mnot\u001b[39;00m \u001b[38;5;28;01mNone\u001b[39;00m:\n\u001b[1;32m    914\u001b[0m   \u001b[38;5;66;03m# Release the lock early so that multiple threads can perform the call\u001b[39;00m\n\u001b[1;32m    915\u001b[0m   \u001b[38;5;66;03m# in parallel.\u001b[39;00m\n\u001b[1;32m    916\u001b[0m   \u001b[38;5;28mself\u001b[39m\u001b[38;5;241m.\u001b[39m_lock\u001b[38;5;241m.\u001b[39mrelease()\n",
      "File \u001b[0;32m~/opt/anaconda3/lib/python3.9/site-packages/tensorflow/python/eager/polymorphic_function/tracing_compiler.py:134\u001b[0m, in \u001b[0;36mTracingCompiler.__call__\u001b[0;34m(self, *args, **kwargs)\u001b[0m\n\u001b[1;32m    131\u001b[0m \u001b[38;5;28;01mwith\u001b[39;00m \u001b[38;5;28mself\u001b[39m\u001b[38;5;241m.\u001b[39m_lock:\n\u001b[1;32m    132\u001b[0m   (concrete_function,\n\u001b[1;32m    133\u001b[0m    filtered_flat_args) \u001b[38;5;241m=\u001b[39m \u001b[38;5;28mself\u001b[39m\u001b[38;5;241m.\u001b[39m_maybe_define_function(args, kwargs)\n\u001b[0;32m--> 134\u001b[0m \u001b[38;5;28;01mreturn\u001b[39;00m \u001b[43mconcrete_function\u001b[49m\u001b[38;5;241;43m.\u001b[39;49m\u001b[43m_call_flat\u001b[49m\u001b[43m(\u001b[49m\n\u001b[1;32m    135\u001b[0m \u001b[43m    \u001b[49m\u001b[43mfiltered_flat_args\u001b[49m\u001b[43m,\u001b[49m\u001b[43m \u001b[49m\u001b[43mcaptured_inputs\u001b[49m\u001b[38;5;241;43m=\u001b[39;49m\u001b[43mconcrete_function\u001b[49m\u001b[38;5;241;43m.\u001b[39;49m\u001b[43mcaptured_inputs\u001b[49m\u001b[43m)\u001b[49m\n",
      "File \u001b[0;32m~/opt/anaconda3/lib/python3.9/site-packages/tensorflow/python/eager/polymorphic_function/monomorphic_function.py:1745\u001b[0m, in \u001b[0;36mConcreteFunction._call_flat\u001b[0;34m(self, args, captured_inputs, cancellation_manager)\u001b[0m\n\u001b[1;32m   1741\u001b[0m possible_gradient_type \u001b[38;5;241m=\u001b[39m gradients_util\u001b[38;5;241m.\u001b[39mPossibleTapeGradientTypes(args)\n\u001b[1;32m   1742\u001b[0m \u001b[38;5;28;01mif\u001b[39;00m (possible_gradient_type \u001b[38;5;241m==\u001b[39m gradients_util\u001b[38;5;241m.\u001b[39mPOSSIBLE_GRADIENT_TYPES_NONE\n\u001b[1;32m   1743\u001b[0m     \u001b[38;5;129;01mand\u001b[39;00m executing_eagerly):\n\u001b[1;32m   1744\u001b[0m   \u001b[38;5;66;03m# No tape is watching; skip to running the function.\u001b[39;00m\n\u001b[0;32m-> 1745\u001b[0m   \u001b[38;5;28;01mreturn\u001b[39;00m \u001b[38;5;28mself\u001b[39m\u001b[38;5;241m.\u001b[39m_build_call_outputs(\u001b[38;5;28;43mself\u001b[39;49m\u001b[38;5;241;43m.\u001b[39;49m\u001b[43m_inference_function\u001b[49m\u001b[38;5;241;43m.\u001b[39;49m\u001b[43mcall\u001b[49m\u001b[43m(\u001b[49m\n\u001b[1;32m   1746\u001b[0m \u001b[43m      \u001b[49m\u001b[43mctx\u001b[49m\u001b[43m,\u001b[49m\u001b[43m \u001b[49m\u001b[43margs\u001b[49m\u001b[43m,\u001b[49m\u001b[43m \u001b[49m\u001b[43mcancellation_manager\u001b[49m\u001b[38;5;241;43m=\u001b[39;49m\u001b[43mcancellation_manager\u001b[49m\u001b[43m)\u001b[49m)\n\u001b[1;32m   1747\u001b[0m forward_backward \u001b[38;5;241m=\u001b[39m \u001b[38;5;28mself\u001b[39m\u001b[38;5;241m.\u001b[39m_select_forward_and_backward_functions(\n\u001b[1;32m   1748\u001b[0m     args,\n\u001b[1;32m   1749\u001b[0m     possible_gradient_type,\n\u001b[1;32m   1750\u001b[0m     executing_eagerly)\n\u001b[1;32m   1751\u001b[0m forward_function, args_with_tangents \u001b[38;5;241m=\u001b[39m forward_backward\u001b[38;5;241m.\u001b[39mforward()\n",
      "File \u001b[0;32m~/opt/anaconda3/lib/python3.9/site-packages/tensorflow/python/eager/polymorphic_function/monomorphic_function.py:378\u001b[0m, in \u001b[0;36m_EagerDefinedFunction.call\u001b[0;34m(self, ctx, args, cancellation_manager)\u001b[0m\n\u001b[1;32m    376\u001b[0m \u001b[38;5;28;01mwith\u001b[39;00m _InterpolateFunctionError(\u001b[38;5;28mself\u001b[39m):\n\u001b[1;32m    377\u001b[0m   \u001b[38;5;28;01mif\u001b[39;00m cancellation_manager \u001b[38;5;129;01mis\u001b[39;00m \u001b[38;5;28;01mNone\u001b[39;00m:\n\u001b[0;32m--> 378\u001b[0m     outputs \u001b[38;5;241m=\u001b[39m \u001b[43mexecute\u001b[49m\u001b[38;5;241;43m.\u001b[39;49m\u001b[43mexecute\u001b[49m\u001b[43m(\u001b[49m\n\u001b[1;32m    379\u001b[0m \u001b[43m        \u001b[49m\u001b[38;5;28;43mstr\u001b[39;49m\u001b[43m(\u001b[49m\u001b[38;5;28;43mself\u001b[39;49m\u001b[38;5;241;43m.\u001b[39;49m\u001b[43msignature\u001b[49m\u001b[38;5;241;43m.\u001b[39;49m\u001b[43mname\u001b[49m\u001b[43m)\u001b[49m\u001b[43m,\u001b[49m\n\u001b[1;32m    380\u001b[0m \u001b[43m        \u001b[49m\u001b[43mnum_outputs\u001b[49m\u001b[38;5;241;43m=\u001b[39;49m\u001b[38;5;28;43mself\u001b[39;49m\u001b[38;5;241;43m.\u001b[39;49m\u001b[43m_num_outputs\u001b[49m\u001b[43m,\u001b[49m\n\u001b[1;32m    381\u001b[0m \u001b[43m        \u001b[49m\u001b[43minputs\u001b[49m\u001b[38;5;241;43m=\u001b[39;49m\u001b[43margs\u001b[49m\u001b[43m,\u001b[49m\n\u001b[1;32m    382\u001b[0m \u001b[43m        \u001b[49m\u001b[43mattrs\u001b[49m\u001b[38;5;241;43m=\u001b[39;49m\u001b[43mattrs\u001b[49m\u001b[43m,\u001b[49m\n\u001b[1;32m    383\u001b[0m \u001b[43m        \u001b[49m\u001b[43mctx\u001b[49m\u001b[38;5;241;43m=\u001b[39;49m\u001b[43mctx\u001b[49m\u001b[43m)\u001b[49m\n\u001b[1;32m    384\u001b[0m   \u001b[38;5;28;01melse\u001b[39;00m:\n\u001b[1;32m    385\u001b[0m     outputs \u001b[38;5;241m=\u001b[39m execute\u001b[38;5;241m.\u001b[39mexecute_with_cancellation(\n\u001b[1;32m    386\u001b[0m         \u001b[38;5;28mstr\u001b[39m(\u001b[38;5;28mself\u001b[39m\u001b[38;5;241m.\u001b[39msignature\u001b[38;5;241m.\u001b[39mname),\n\u001b[1;32m    387\u001b[0m         num_outputs\u001b[38;5;241m=\u001b[39m\u001b[38;5;28mself\u001b[39m\u001b[38;5;241m.\u001b[39m_num_outputs,\n\u001b[0;32m   (...)\u001b[0m\n\u001b[1;32m    390\u001b[0m         ctx\u001b[38;5;241m=\u001b[39mctx,\n\u001b[1;32m    391\u001b[0m         cancellation_manager\u001b[38;5;241m=\u001b[39mcancellation_manager)\n",
      "File \u001b[0;32m~/opt/anaconda3/lib/python3.9/site-packages/tensorflow/python/eager/execute.py:52\u001b[0m, in \u001b[0;36mquick_execute\u001b[0;34m(op_name, num_outputs, inputs, attrs, ctx, name)\u001b[0m\n\u001b[1;32m     50\u001b[0m \u001b[38;5;28;01mtry\u001b[39;00m:\n\u001b[1;32m     51\u001b[0m   ctx\u001b[38;5;241m.\u001b[39mensure_initialized()\n\u001b[0;32m---> 52\u001b[0m   tensors \u001b[38;5;241m=\u001b[39m \u001b[43mpywrap_tfe\u001b[49m\u001b[38;5;241;43m.\u001b[39;49m\u001b[43mTFE_Py_Execute\u001b[49m\u001b[43m(\u001b[49m\u001b[43mctx\u001b[49m\u001b[38;5;241;43m.\u001b[39;49m\u001b[43m_handle\u001b[49m\u001b[43m,\u001b[49m\u001b[43m \u001b[49m\u001b[43mdevice_name\u001b[49m\u001b[43m,\u001b[49m\u001b[43m \u001b[49m\u001b[43mop_name\u001b[49m\u001b[43m,\u001b[49m\n\u001b[1;32m     53\u001b[0m \u001b[43m                                      \u001b[49m\u001b[43minputs\u001b[49m\u001b[43m,\u001b[49m\u001b[43m \u001b[49m\u001b[43mattrs\u001b[49m\u001b[43m,\u001b[49m\u001b[43m \u001b[49m\u001b[43mnum_outputs\u001b[49m\u001b[43m)\u001b[49m\n\u001b[1;32m     54\u001b[0m \u001b[38;5;28;01mexcept\u001b[39;00m core\u001b[38;5;241m.\u001b[39m_NotOkStatusException \u001b[38;5;28;01mas\u001b[39;00m e:\n\u001b[1;32m     55\u001b[0m   \u001b[38;5;28;01mif\u001b[39;00m name \u001b[38;5;129;01mis\u001b[39;00m \u001b[38;5;129;01mnot\u001b[39;00m \u001b[38;5;28;01mNone\u001b[39;00m:\n",
      "\u001b[0;31mKeyboardInterrupt\u001b[0m: "
     ]
    }
   ],
   "source": [
    "model.evaluate(test_set)"
   ]
  },
  {
   "cell_type": "code",
   "execution_count": null,
   "metadata": {
    "colab": {
     "background_save": true
    },
    "id": "kjXBS8vbDs_C"
   },
   "outputs": [],
   "source": [
    "# model.load_weights('/content/drive/MyDrive/Colab Notebooks/pa2_data/pretrained_main/pretrained_main')"
   ]
  },
  {
   "cell_type": "code",
   "execution_count": null,
   "metadata": {
    "colab": {
     "background_save": true
    },
    "id": "h1npvYm62wlL"
   },
   "outputs": [],
   "source": [
    "trained_model = model.fit(train_set, epochs=1, validation_data = valid_set)"
   ]
  },
  {
   "cell_type": "code",
   "execution_count": null,
   "metadata": {
    "colab": {
     "background_save": true
    },
    "id": "uoqKjIBe4hjw"
   },
   "outputs": [],
   "source": [
    "import joblib\n",
    "joblib.dump(trained_model, 'trained_model.pkl', compress=9)"
   ]
  }
 ],
 "metadata": {
  "accelerator": "GPU",
  "colab": {
   "provenance": []
  },
  "kernelspec": {
   "display_name": "Python 3 (ipykernel)",
   "language": "python",
   "name": "python3"
  },
  "language_info": {
   "codemirror_mode": {
    "name": "ipython",
    "version": 3
   },
   "file_extension": ".py",
   "mimetype": "text/x-python",
   "name": "python",
   "nbconvert_exporter": "python",
   "pygments_lexer": "ipython3",
   "version": "3.9.15"
  }
 },
 "nbformat": 4,
 "nbformat_minor": 1
}
